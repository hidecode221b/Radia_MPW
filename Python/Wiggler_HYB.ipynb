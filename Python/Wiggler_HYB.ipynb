{
 "cells": [
  {
   "cell_type": "markdown",
   "metadata": {
    "heading_collapsed": true,
    "tags": []
   },
   "source": [
    "# Hybrid Undulators/wigglers"
   ]
  },
  {
   "cell_type": "markdown",
   "metadata": {
    "heading_collapsed": true,
    "hidden": true
   },
   "source": [
    "## Import Radia Insertion Devices"
   ]
  },
  {
   "cell_type": "code",
   "execution_count": null,
   "metadata": {
    "hidden": true
   },
   "outputs": [],
   "source": [
    "# Add paths to RadiaID and RadiaUtils\n",
    "import sys\n",
    "#sys.path.append('../../PyRadia/RadiaID/') # RadiaInsertion Devices\n",
    "#sys.path.append('../../PyRadia/RadiaUtils/')# Magnetic materials, Radia export functions, etc.\n",
    "\n",
    "# Import the radia_id module\n",
    "import radia as rad\n",
    "import radia_id_mpw_hyb as rid\n",
    "from jupyter_rs_radia import radia_viewer\n",
    "import time as tm"
   ]
  },
  {
   "cell_type": "markdown",
   "metadata": {
    "hidden": true
   },
   "source": [
    "## Build and solve a hybrid undulator"
   ]
  },
  {
   "cell_type": "code",
   "execution_count": null,
   "metadata": {
    "hidden": true,
    "scrolled": true
   },
   "outputs": [],
   "source": [
    "build = 'full'\n",
    "# full, main, side, pole, side_pole, main_pole, main_side\n",
    "\n",
    "# Main undulator parameters\n",
    "period = 220 # Undulator period (mm)\n",
    "gap = 20 # Udulator gap (mm)\n",
    "#n_periods = 4 # Number of periods\n",
    "n_poles = 1 # Number of poles\n",
    "\n",
    "mat = 'ndfeb' # Should be 'cryo', 'ndfeb' or 'smco'\n",
    "\n",
    "# Build a parameter object according to the material specification\n",
    "if mat == 'smco':\n",
    "    # For Sm2Co17 magnets\n",
    "    params = rid.HybridWigParam(period, n_poles, gap, mag_mat='sm2co17', br=1.1, wig_build=build)\n",
    "elif mat == 'ndfeb':\n",
    "    # For room temperature NdFeB (Br may be a bit optimistic)\n",
    "    params = rid.HybridWigParam(period, n_poles, gap, mag_mat='ndfeb', br=1.29, wig_build=build)\n",
    "elif mat == 'cryo':\n",
    "    # For PrFeB magnets at 80 K and Vanadium Permadur poles\n",
    "    params = rid.HybridWigParam(period, n_poles, gap, mag_mat='ndfeb', br=1.6, pole_mat='fecov', wig_build=build)\n",
    "\n",
    "# Build and solve\n",
    "und = rid.HybridWiggler(params)"
   ]
  },
  {
   "cell_type": "markdown",
   "metadata": {
    "heading_collapsed": true,
    "hidden": true
   },
   "source": [
    "### Load the object"
   ]
  },
  {
   "cell_type": "code",
   "execution_count": null,
   "metadata": {},
   "outputs": [],
   "source": [
    "# Load model exported previously\n",
    "und = rid.Undulator()\n",
    "und.load(filename='mpw9cs_g15_' + build, path='')"
   ]
  },
  {
   "cell_type": "markdown",
   "metadata": {
    "heading_collapsed": true,
    "hidden": true
   },
   "source": [
    "### Print results"
   ]
  },
  {
   "cell_type": "code",
   "execution_count": null,
   "metadata": {
    "hidden": true,
    "scrolled": true
   },
   "outputs": [],
   "source": [
    "# Print the undulator summary\n",
    "und.print_wavelength(e=1.2, n=1, theta=0)\n",
    "# und.print_wavelength()"
   ]
  },
  {
   "cell_type": "markdown",
   "metadata": {
    "heading_collapsed": true,
    "hidden": true
   },
   "source": [
    "### Export the object"
   ]
  },
  {
   "cell_type": "code",
   "execution_count": null,
   "metadata": {},
   "outputs": [],
   "source": [
    "# Export the parameters and model\n",
    "und.save(filename='mpw' + str(n_poles) + 'cs_g' + str(gap) + '_' + build, path='') # save parameters and model"
   ]
  },
  {
   "cell_type": "markdown",
   "metadata": {
    "heading_collapsed": true,
    "hidden": true
   },
   "source": [
    "## 3D plot of the magnet geometry"
   ]
  },
  {
   "cell_type": "code",
   "execution_count": null,
   "metadata": {
    "hidden": true
   },
   "outputs": [],
   "source": [
    "# Save VTK\n",
    "und.exportGeometryToVTK('mpw' + str(n_poles) + 'cs_g' + str(gap) + '_' + build)"
   ]
  },
  {
   "cell_type": "markdown",
   "metadata": {
    "heading_collapsed": true,
    "hidden": true
   },
   "source": [
    "## Radia Viewer"
   ]
  },
  {
   "cell_type": "code",
   "execution_count": null,
   "metadata": {
    "hidden": true
   },
   "outputs": [],
   "source": [
    "# set up the radia viewer and display the magnet\n",
    "rv = radia_viewer.RadiaViewer()\n",
    "rv.add_geometry('Wiggler', und)\n",
    "rv.display() "
   ]
  },
  {
   "cell_type": "markdown",
   "metadata": {
    "heading_collapsed": true,
    "hidden": true
   },
   "source": [
    "## Field computations"
   ]
  },
  {
   "cell_type": "markdown",
   "metadata": {
    "heading_collapsed": true,
    "hidden": true
   },
   "source": [
    "### Longitudinal field distribution"
   ]
  },
  {
   "cell_type": "code",
   "execution_count": null,
   "metadata": {
    "hidden": true
   },
   "outputs": [],
   "source": [
    "und.plot_field(xyz_end=[0, 1000, 0], xyz_start=[0, -1000, 0], n=1000, b='bz', x_axis='d', plot_show=True, plot_title='field_y');"
   ]
  },
  {
   "cell_type": "markdown",
   "metadata": {
    "heading_collapsed": true,
    "hidden": true
   },
   "source": [
    "### Transverse field distribution"
   ]
  },
  {
   "cell_type": "code",
   "execution_count": null,
   "metadata": {
    "hidden": true
   },
   "outputs": [],
   "source": [
    "und.plot_field([100, 0, 0], [-100, 0, 0], n=1000, b='bz', x_axis='d', plot_show=True, plot_title='field_x');"
   ]
  },
  {
   "cell_type": "markdown",
   "metadata": {
    "heading_collapsed": true,
    "hidden": true
   },
   "source": [
    "### Transverse trajectory in logitudinal direction"
   ]
  },
  {
   "cell_type": "code",
   "execution_count": null,
   "metadata": {},
   "outputs": [],
   "source": [
    "und.plot_traj(e=1.2, init_cond=[0, 0, 0, 0], y_range=None, n_points=1000, x_or_z='x', plot_show=True, plot_title='traj_y');"
   ]
  },
  {
   "cell_type": "markdown",
   "metadata": {
    "heading_collapsed": true,
    "hidden": true
   },
   "source": [
    "### Field integral"
   ]
  },
  {
   "cell_type": "code",
   "execution_count": null,
   "metadata": {
    "tags": []
   },
   "outputs": [],
   "source": [
    "und.plot_field_int(xyz_end=[400, 0, 0], xyz_start=[-400, 0, 0], dir_int=[0, 1, 0], n=1000, b='bz', x_axis='d', plot_show=True, plot_title='field_int');"
   ]
  },
  {
   "cell_type": "markdown",
   "metadata": {
    "heading_collapsed": true,
    "hidden": true
   },
   "source": [
    "### Magnetic force"
   ]
  },
  {
   "cell_type": "code",
   "execution_count": null,
   "metadata": {
    "tags": []
   },
   "outputs": [],
   "source": [
    "k = [1, 1, 2]\n",
    "\n",
    "t0 = tm.time()\n",
    "und.force2(k)\n",
    "t1 = tm.time()\n",
    "\n",
    "print('cpu time(fr):', t1 - t0, 's')"
   ]
  },
  {
   "cell_type": "markdown",
   "metadata": {
    "hidden": true
   },
   "source": [
    "## References\n",
    "\n",
    "[1] The <a href=\"https://gitlab.esrf.fr/IDM/python/radiaid\" target=\"_blank\">radia_id</a> Python module\n",
    "\n",
    "[2] Radia <a href=\"https://github.com/ochubar/Radia\" target=\"_blank\">Github</a> repository\n",
    "\n",
    "[3] o Chubar *et al*, J. Synchrotron Rad. 5, pp. 481-484, 1998"
   ]
  }
 ],
 "metadata": {
  "kernelspec": {
   "display_name": "Python 3",
   "language": "python",
   "name": "py3"
  },
  "language_info": {
   "codemirror_mode": {
    "name": "ipython",
    "version": 3
   },
   "file_extension": ".py",
   "mimetype": "text/x-python",
   "name": "python",
   "nbconvert_exporter": "python",
   "pygments_lexer": "ipython3",
   "version": "3.7.2"
  },
  "latex_envs": {
   "LaTeX_envs_menu_present": true,
   "autoclose": false,
   "autocomplete": true,
   "bibliofile": "biblio.bib",
   "cite_by": "apalike",
   "current_citInitial": 1,
   "eqLabelWithNumbers": true,
   "eqNumInitial": 1,
   "hotkeys": {
    "equation": "Ctrl-E",
    "itemize": "Ctrl-I"
   },
   "labels_anchors": false,
   "latex_user_defs": false,
   "report_style_numbering": false,
   "user_envs_cfg": false
  }
 },
 "nbformat": 4,
 "nbformat_minor": 4
}
